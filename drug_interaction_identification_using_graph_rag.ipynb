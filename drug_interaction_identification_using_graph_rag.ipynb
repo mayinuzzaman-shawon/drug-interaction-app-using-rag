{
  "nbformat": 4,
  "nbformat_minor": 0,
  "metadata": {
    "colab": {
      "provenance": []
    },
    "kernelspec": {
      "name": "python3",
      "display_name": "Python 3"
    },
    "language_info": {
      "name": "python"
    }
  },
  "cells": [
    {
      "cell_type": "code",
      "source": [
        "%pip install --upgrade --quiet  langchain langchain-community langchain-openai langchain-experimental neo4j wikipedia tiktoken yfiles_jupyter_graphs"
      ],
      "metadata": {
        "colab": {
          "base_uri": "https://localhost:8080/"
        },
        "id": "CL7AMiDK3vgZ",
        "outputId": "b2295308-ce50-439d-c8bf-fed3414e8d7e"
      },
      "execution_count": null,
      "outputs": [
        {
          "output_type": "stream",
          "name": "stdout",
          "text": [
            "  Preparing metadata (setup.py) ... \u001b[?25l\u001b[?25hdone\n",
            "\u001b[2K   \u001b[90m━━━━━━━━━━━━━━━━━━━━━━━━━━━━━━━━━━━━━━━━\u001b[0m \u001b[32m209.2/209.2 kB\u001b[0m \u001b[31m5.0 MB/s\u001b[0m eta \u001b[36m0:00:00\u001b[0m\n",
            "\u001b[?25h  Building wheel for wikipedia (setup.py) ... \u001b[?25l\u001b[?25hdone\n"
          ]
        }
      ]
    },
    {
      "cell_type": "code",
      "source": [
        "import os\n",
        "\n",
        "os.environ[\"OPENAI_API_KEY\"] = \"YOUR_API_KEY\"\n",
        "os.environ[\"NEO4J_URI\"] = \"YOUR_URI\"\n",
        "os.environ[\"NEO4J_USERNAME\"] = \"YOUR_USERNAME\"\n",
        "os.environ[\"NEO4J_PASSWORD\"] = \"YOUR_PASSWORD\"\n"
      ],
      "metadata": {
        "id": "V-6yB0-K3Jnr"
      },
      "execution_count": null,
      "outputs": []
    },
    {
      "cell_type": "code",
      "source": [
        "import pandas as pd\n",
        "\n",
        "df = pd.read_csv(\"drug_reaction.csv\")\n",
        "print(df.head())"
      ],
      "metadata": {
        "colab": {
          "base_uri": "https://localhost:8080/"
        },
        "id": "jnknMNDJ3XvY",
        "outputId": "c82eea48-8268-4418-d7cd-573d95f5f37b"
      },
      "execution_count": null,
      "outputs": [
        {
          "output_type": "stream",
          "name": "stdout",
          "text": [
            "           Drug             Reaction\n",
            "0  Atorvastatin             Polyuria\n",
            "1  Atorvastatin  Uterine perforation\n",
            "2  Atorvastatin       Liver disorder\n",
            "3  Atorvastatin                Death\n",
            "4  Atorvastatin       Rhabdomyolysis\n"
          ]
        }
      ]
    },
    {
      "cell_type": "code",
      "source": [
        "from langchain.schema import Document\n",
        "\n",
        "documents = []\n",
        "for idx, row in df.iterrows():\n",
        "    content = f\"Drug: {row['Drug']}\\nReaction: {row['Reaction']}\"\n",
        "    documents.append(Document(page_content=content))\n"
      ],
      "metadata": {
        "id": "4qUXvv9f3fwg"
      },
      "execution_count": null,
      "outputs": []
    },
    {
      "cell_type": "code",
      "source": [
        "from langchain_openai import ChatOpenAI\n",
        "from langchain_experimental.graph_transformers import LLMGraphTransformer\n",
        "from langchain_community.graphs import Neo4jGraph\n",
        "\n",
        "graph = Neo4jGraph()\n",
        "\n",
        "# Leveraging GPT-4o Model\n",
        "llm = ChatOpenAI(model=\"gpt-4o-mini\", temperature=0)\n",
        "\n",
        "# Create Graph Documents\n",
        "llm_transformer = LLMGraphTransformer(llm=llm)\n",
        "graph_documents = llm_transformer.convert_to_graph_documents(documents)\n",
        "\n",
        "# Add them to Neo4j\n",
        "graph.add_graph_documents(\n",
        "    graph_documents,\n",
        "    baseEntityLabel=True,\n",
        "    include_source=True\n",
        ")\n"
      ],
      "metadata": {
        "colab": {
          "base_uri": "https://localhost:8080/"
        },
        "id": "t4wr9Cs63ici",
        "outputId": "cc50fdc2-d1ea-44f8-8928-3a08377051fc"
      },
      "execution_count": null,
      "outputs": [
        {
          "output_type": "stream",
          "name": "stderr",
          "text": [
            "<ipython-input-5-f422aaa1bf71>:5: LangChainDeprecationWarning: The class `Neo4jGraph` was deprecated in LangChain 0.3.8 and will be removed in 1.0. An updated version of the class exists in the :class:`~langchain-neo4j package and should be used instead. To use it run `pip install -U :class:`~langchain-neo4j` and import as `from :class:`~langchain_neo4j import Neo4jGraph``.\n",
            "  graph = Neo4jGraph()\n"
          ]
        }
      ]
    },
    {
      "cell_type": "code",
      "source": [
        "from langchain_openai import OpenAIEmbeddings\n",
        "from langchain_community.vectorstores import Neo4jVector\n",
        "\n",
        "vector_index = Neo4jVector.from_existing_graph(\n",
        "    OpenAIEmbeddings(model=\"text-embedding-ada-002\"),\n",
        "    search_type=\"hybrid\",\n",
        "    node_label=\"Document\",\n",
        "    text_node_properties=[\"text\"],\n",
        "    embedding_node_property=\"embedding\"\n",
        ")\n"
      ],
      "metadata": {
        "id": "gebAFp-M8A13"
      },
      "execution_count": null,
      "outputs": []
    },
    {
      "cell_type": "code",
      "source": [
        "from langchain_core.prompts import ChatPromptTemplate\n",
        "from langchain_core.pydantic_v1 import BaseModel, Field\n",
        "from typing import List\n",
        "\n",
        "class Entities(BaseModel):\n",
        "    \"\"\"Drug or Reaction names.\"\"\"\n",
        "    names: List[str] = Field(..., description=\"Names of drugs or reactions mentioned\")\n",
        "\n",
        "prompt = ChatPromptTemplate.from_messages([\n",
        "    (\"system\", \"You are an expert on drug reactions. Extract drugs and reactions mentioned.\"),\n",
        "    (\"human\", \"Extract from this input: {question}\")\n",
        "])\n",
        "\n",
        "entity_chain = prompt | llm.with_structured_output(Entities)\n"
      ],
      "metadata": {
        "colab": {
          "base_uri": "https://localhost:8080/"
        },
        "id": "hxB2dLLV8LVw",
        "outputId": "44b02faa-9de4-4686-a6e7-905ccac4bbbb"
      },
      "execution_count": null,
      "outputs": [
        {
          "output_type": "stream",
          "name": "stderr",
          "text": [
            "/usr/local/lib/python3.11/dist-packages/IPython/core/interactiveshell.py:3553: LangChainDeprecationWarning: As of langchain-core 0.3.0, LangChain uses pydantic v2 internally. The langchain_core.pydantic_v1 module was a compatibility shim for pydantic v1, and should no longer be used. Please update the code to import from Pydantic directly.\n",
            "\n",
            "For example, replace imports like: `from langchain_core.pydantic_v1 import BaseModel`\n",
            "with: `from pydantic import BaseModel`\n",
            "or the v1 compatibility namespace if you are working in a code base that has not been fully upgraded to pydantic 2 yet. \tfrom pydantic.v1 import BaseModel\n",
            "\n",
            "  exec(code_obj, self.user_global_ns, self.user_ns)\n",
            "/usr/local/lib/python3.11/dist-packages/langchain_openai/chat_models/base.py:1660: UserWarning: Received a Pydantic BaseModel V1 schema. This is not supported by method=\"json_schema\". Please use method=\"function_calling\" or specify schema via JSON Schema or Pydantic V2 BaseModel. Overriding to method=\"function_calling\".\n",
            "  warnings.warn(\n"
          ]
        }
      ]
    },
    {
      "cell_type": "code",
      "source": [
        "from langchain_community.vectorstores.neo4j_vector import remove_lucene_chars\n",
        "\n",
        "def generate_full_text_query(input: str) -> str:\n",
        "    full_text_query = \"\"\n",
        "    words = [el for el in remove_lucene_chars(input).split() if el]\n",
        "    for word in words[:-1]:\n",
        "        full_text_query += f\" {word}~2 AND\"\n",
        "    full_text_query += f\" {words[-1]}~2\"\n",
        "    return full_text_query.strip()\n",
        "\n",
        "def structured_retriever(question: str) -> str:\n",
        "    result = \"\"\n",
        "    entities = entity_chain.invoke({\"question\": question})\n",
        "    for entity in entities.names:\n",
        "        response = graph.query(\n",
        "            \"\"\"CALL db.index.fulltext.queryNodes('entity', $query, {limit:3})\n",
        "            YIELD node, score\n",
        "            CALL {\n",
        "              WITH node\n",
        "              MATCH (node)-[r:!MENTIONS]->(neighbor)\n",
        "              RETURN node.id + ' - ' + type(r) + ' -> ' + neighbor.id AS output\n",
        "              UNION ALL\n",
        "              WITH node\n",
        "              MATCH (node)<-[r:!MENTIONS]-(neighbor)\n",
        "              RETURN neighbor.id + ' - ' + type(r) + ' -> ' + node.id AS output\n",
        "            }\n",
        "            RETURN output LIMIT 50\n",
        "            \"\"\",\n",
        "            {\"query\": generate_full_text_query(entity)},\n",
        "        )\n",
        "        result += \"\\n\".join([el['output'] for el in response])\n",
        "    return result\n"
      ],
      "metadata": {
        "id": "tlmOnTwO8aiY"
      },
      "execution_count": null,
      "outputs": []
    },
    {
      "cell_type": "code",
      "source": [
        "def retriever(question: str):\n",
        "    structured_data = structured_retriever(question)\n",
        "    unstructured_data = [el.page_content for el in vector_index.similarity_search(question)]\n",
        "    final_data = f\"\"\"Structured data:\n",
        "{structured_data}\n",
        "Unstructured data:\n",
        "{\"#Document \". join(unstructured_data)}\n",
        "\"\"\"\n",
        "    return final_data\n"
      ],
      "metadata": {
        "id": "Lzmooswg8d7v"
      },
      "execution_count": null,
      "outputs": []
    },
    {
      "cell_type": "code",
      "source": [
        "from langchain_core.prompts.prompt import PromptTemplate\n",
        "from langchain_core.runnables import RunnableBranch, RunnableLambda, RunnablePassthrough, RunnableParallel\n",
        "from langchain_core.output_parsers import StrOutputParser\n",
        "from langchain_core.messages import AIMessage, HumanMessage\n",
        "from typing import Tuple\n",
        "\n",
        "_template = \"\"\"Given the following conversation and a follow up question, rephrase the follow up question to be standalone.\n",
        "Chat History:\n",
        "{chat_history}\n",
        "Follow Up Input: {question}\n",
        "Standalone question:\"\"\"\n",
        "CONDENSE_QUESTION_PROMPT = PromptTemplate.from_template(_template)\n",
        "\n",
        "def _format_chat_history(chat_history: List[Tuple[str, str]]) -> List:\n",
        "    buffer = []\n",
        "    for human, ai in chat_history:\n",
        "        buffer.append(HumanMessage(content=human))\n",
        "        buffer.append(AIMessage(content=ai))\n",
        "    return buffer\n",
        "\n",
        "_search_query = RunnableBranch(\n",
        "    (RunnableLambda(lambda x: bool(x.get(\"chat_history\"))).with_config(run_name=\"HasChatHistoryCheck\"),\n",
        "     RunnablePassthrough.assign(chat_history=lambda x: _format_chat_history(x[\"chat_history\"]))\n",
        "     | CONDENSE_QUESTION_PROMPT\n",
        "     | llm\n",
        "     | StrOutputParser()\n",
        "    ),\n",
        "    RunnableLambda(lambda x: x[\"question\"])\n",
        ")\n",
        "\n",
        "# Final prompt template\n",
        "template = \"\"\"Answer the question based only on the following context:\n",
        "{context}\n",
        "\n",
        "Question: {question}\n",
        "Use clear medical explanations if needed, be concise.\n",
        "Answer:\"\"\"\n",
        "\n",
        "prompt = ChatPromptTemplate.from_template(template)\n",
        "\n",
        "# Final chain\n",
        "chain = (\n",
        "    RunnableParallel({\n",
        "        \"context\": _search_query | retriever,\n",
        "        \"question\": RunnablePassthrough(),\n",
        "    })\n",
        "    | prompt\n",
        "    | llm\n",
        "    | StrOutputParser()\n",
        ")\n"
      ],
      "metadata": {
        "id": "opApSOeo8hmU"
      },
      "execution_count": null,
      "outputs": []
    },
    {
      "cell_type": "code",
      "source": [
        "import warnings\n",
        "warnings.filterwarnings('ignore')\n",
        "\n",
        "import logging\n",
        "logging.getLogger('neo4j').setLevel(logging.ERROR)\n"
      ],
      "metadata": {
        "id": "i42EcwL99N4I"
      },
      "execution_count": null,
      "outputs": []
    },
    {
      "cell_type": "code",
      "source": [
        "result = chain.invoke({\"question\": \"What type of adverse effects Atorvastatin can have on patients?\"})\n",
        "print(result)"
      ],
      "metadata": {
        "colab": {
          "base_uri": "https://localhost:8080/"
        },
        "id": "uVdkfMj89QGN",
        "outputId": "c1edaef1-3cf2-4647-98bd-aa2a4a01345a"
      },
      "execution_count": null,
      "outputs": [
        {
          "output_type": "stream",
          "name": "stdout",
          "text": [
            "Atorvastatin can cause a variety of adverse effects in patients, including:\n",
            "\n",
            "1. **Metabolic Effects**: Such as metabolic syndrome and hypomagnesaemia.\n",
            "2. **Hematological Issues**: Including thrombocytopenia, anaemia, and leukaemia.\n",
            "3. **Neurological Symptoms**: Such as confusional state, depression, dementia, epilepsy, dysarthria, and balance disorders.\n",
            "4. **Musculoskeletal Problems**: Including immune-mediated myositis, muscle discomfort, and muscle disorders.\n",
            "5. **Gastrointestinal Disorders**: Such as abdominal pain, dyspepsia, and gastrointestinal haemorrhage.\n",
            "6. **Respiratory Issues**: Including dyspnoea, asthma, and pneumonia.\n",
            "7. **Cardiovascular Effects**: Such as hypotension, syncope, and myocarditis.\n",
            "8. **Dermatological Reactions**: Including rash, alopecia, and application site pruritus.\n",
            "9. **General Symptoms**: Such as fatigue, malaise, chills, pyrexia, and cold sweat.\n",
            "10. **Other Reactions**: Including taste disorder, reperfusion arrhythmia, and idiopathic pulmonary fibrosis.\n",
            "\n",
            "These effects can vary in severity and may require medical attention.\n"
          ]
        }
      ]
    },
    {
      "cell_type": "code",
      "source": [
        "result = chain.invoke({\"question\": \"What type of adverse effects Atorvastatin can have on patients with covid-19?\"})\n",
        "print(result)"
      ],
      "metadata": {
        "colab": {
          "base_uri": "https://localhost:8080/"
        },
        "id": "v7cw1ptF-VvV",
        "outputId": "18f358c7-c18a-4c27-ad1f-7222f5ddd0bd"
      },
      "execution_count": null,
      "outputs": [
        {
          "output_type": "stream",
          "name": "stdout",
          "text": [
            "Atorvastatin may lead to several adverse effects in patients with COVID-19, including:\n",
            "\n",
            "1. **Respiratory Issues**: It can cause dyspnoea (difficulty breathing) and pneumonia, which are critical concerns in COVID-19 patients.\n",
            "2. **Neurological Effects**: Symptoms such as confusion, fatigue, and dizziness may exacerbate the cognitive and physical challenges faced by COVID-19 patients.\n",
            "3. **Immune Response**: Atorvastatin is associated with immune-mediated conditions, which could complicate the immune response to COVID-19.\n",
            "4. **Metabolic Effects**: Conditions like metabolic syndrome and hypomagnesaemia may worsen the overall health status of patients with COVID-19.\n",
            "\n",
            "These effects can complicate the management of COVID-19 and may require careful monitoring and adjustment of treatment.\n"
          ]
        }
      ]
    },
    {
      "cell_type": "code",
      "source": [
        "result = chain.invoke({\"question\": \"Could Pravastatin drug have adverse effects on kidney\"})\n",
        "print(result)"
      ],
      "metadata": {
        "colab": {
          "base_uri": "https://localhost:8080/"
        },
        "id": "zVGSxqkP_MTM",
        "outputId": "822a7aba-7904-4c79-ccfa-94ca8c677655"
      },
      "execution_count": null,
      "outputs": [
        {
          "output_type": "stream",
          "name": "stdout",
          "text": [
            "Yes, Pravastatin can have adverse effects on the kidneys. It is associated with conditions such as Acute Kidney Injury and Chronic Kidney Disease, as indicated in the structured data. These effects may arise from the drug's impact on renal function, potentially leading to deterioration in kidney health.\n"
          ]
        }
      ]
    }
  ]
}